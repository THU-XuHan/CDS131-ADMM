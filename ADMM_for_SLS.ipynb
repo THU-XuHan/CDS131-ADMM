{
  "cells": [
    {
      "cell_type": "markdown",
      "metadata": {
        "id": "PKp32H_oyfYr"
      },
      "source": [
        "# Introduction\n",
        "In this notebook, we will implement ADMM and solve for closed-loop maps which define the SLS parameterization. We will compare the solution to the solution generated from CVXpy, comparing both the accuracy and the computation time. Answer all questions and implement the functions where there is a \"todo\" comment.\n",
        "\n",
        "\n",
        "<!-- \\newcommand{\\norm}[1]{\\left\\lVert#1\\right\\rVert} -->\n",
        "\n"
      ]
    },
    {
      "cell_type": "code",
      "execution_count": 2,
      "metadata": {
        "id": "5KnMsqS0NbCP"
      },
      "outputs": [],
      "source": [
        "import numpy as np\n",
        "import cvxpy as cp\n",
        "from scipy.linalg import block_diag\n",
        "from matplotlib import pyplot as plt\n",
        "import multiprocessing"
      ]
    },
    {
      "cell_type": "markdown",
      "metadata": {
        "id": "XAzou5Aly7Wf"
      },
      "source": [
        "\n",
        "The SLS optimization problem we will consider is\n",
        "\\begin{align*}\n",
        "\\min_{\\theta_x,\\theta_u}\\left\\|\\begin{bmatrix}\n",
        "\\mathbf Q^{1/2} & 0\\\\0  &\\mathbf R^{1/2}\n",
        "\\end{bmatrix} \\begin{bmatrix}\n",
        "\\theta_x \\\\ \\theta_u\n",
        "\\end{bmatrix}\n",
        " \\right\\|_2^2 \\\\\n",
        " \\text{such that } [I-\\mathbf A, -\\mathbf B]\\begin{bmatrix} \\theta_x \\\\ \\theta_u \\end{bmatrix}=I\\,.\n",
        "\\end{align*}\n"
      ]
    },
    {
      "cell_type": "markdown",
      "metadata": {
        "id": "o7mteHsSg-KT"
      },
      "source": [
        "Is the system level constraint $[I-\\mathbf A, -\\mathbf B]\\begin{bmatrix} \\theta_x \\\\ \\theta_u \\end{bmatrix}=I$ row-separable or column-separable, both, or neither?\n",
        "\n",
        "$\\color{red}{\\text{answer here}}$"
      ]
    },
    {
      "cell_type": "markdown",
      "metadata": {
        "id": "0yucx38Rkxn9"
      },
      "source": [
        "We will define the relevant matrices for the problem."
      ]
    },
    {
      "cell_type": "code",
      "execution_count": 3,
      "metadata": {
        "id": "JhJ-_Tlbg7rf"
      },
      "outputs": [],
      "source": [
        "Nx = 8 # dimension of system state\n",
        "Nu = 4 # dimension of control input\n",
        "T  = 12 # number of time steps\n",
        "\n",
        "# generate diagonal matrix for A\n",
        "A = np.eye(Nx)*0.7\n",
        "A += np.diag(np.ones(Nx-1), k=-1)*0.3\n",
        "A += np.diag(np.ones(Nx-1), k=1)*0.3\n",
        "\n",
        "# control every 2nd state\n",
        "B = np.zeros((Nx, Nu))\n",
        "B[np.arange(Nx/2,dtype=int)*2,np.arange(Nu)] = 1.\n",
        "\n",
        "\n",
        "# cost matrices\n",
        "Q = np.eye(Nx)\n",
        "R = np.eye(Nu)"
      ]
    },
    {
      "cell_type": "markdown",
      "metadata": {
        "id": "5hYnm4lkk4xD"
      },
      "source": [
        "Let us now construct the block subdiagonal matrices $\\mathbf A$ and $\\mathbf B$."
      ]
    },
    {
      "cell_type": "code",
      "execution_count": null,
      "metadata": {},
      "outputs": [
        {
          "data": {
            "image/png": "[encoded data removed]",
            "text/plain": [
              "<Figure size 432x288 with 1 Axes>"
            ]
          },
          "metadata": {
            "needs_background": "light"
          },
          "output_type": "display_data"
        },
        {
          "data": {
            "image/png": "[encoded data removed]",
            "text/plain": [
              "<Figure size 432x288 with 1 Axes>"
            ]
          },
          "metadata": {
            "needs_background": "light"
          },
          "output_type": "display_data"
        }
      ],
      "source": [
        "def build_block_AB(A,B,T):\n",
        "    '''place A on the block-SUB-diagonal of a matrix T-1 times\n",
        "    place B on the block-SUB-diagonal of a matrix T-1 times'''\n",
        "    # todo\n",
        "    pass\n",
        "\n",
        "calA, calB = build_block_AB(A,B,T)\n",
        "\n",
        "# plot A to check for correct structure\n",
        "plt.figure()\n",
        "plt.imshow(calA)\n",
        "plt.show()\n",
        "\n",
        "# plot B to check for correct structure\n",
        "plt.figure()\n",
        "plt.imshow(calB)\n",
        "plt.show()\n"
      ]
    },
    {
      "cell_type": "markdown",
      "metadata": {},
      "source": [
        "Now we define the cost matrix for the norm by\n",
        "\\begin{align*}\n",
        "\\begin{bmatrix}\n",
        "Q^{1/2} & & & & &\\\\\n",
        "& \\ddots & & & &\\\\\n",
        "& & Q^{1/2} & & &\\\\\n",
        "& & & R^{1/2} & & \\\\\n",
        "& & & & \\ddots & \\\\\n",
        "& & & & & R^{1/2} \n",
        "\\end{bmatrix}\\,.\n",
        "\\end{align*}"
      ]
    },
    {
      "cell_type": "code",
      "execution_count": 5,
      "metadata": {},
      "outputs": [
        {
          "data": {
            "text/plain": [
              "<matplotlib.image.AxesImage at 0x1d995c09070>"
            ]
          },
          "execution_count": 5,
          "metadata": {},
          "output_type": "execute_result"
        },
        {
          "data": {
            "image/png": "[encoded data removed]",
            "text/plain": [
              "<Figure size 432x288 with 1 Axes>"
            ]
          },
          "metadata": {
            "needs_background": "light"
          },
          "output_type": "display_data"
        }
      ],
      "source": [
        "# compute block cost matrices from Q and R, each block is of size Nx x Nx or Nu x Nu, repeated T times\n",
        "Qbar = block_diag(*[Q]*T)\n",
        "Rbar = block_diag(*[R]*T)/np.sqrt(2.)\n",
        "costMatrix = block_diag(Qbar,Rbar)\n",
        "plt.figure()\n",
        "plt.imshow(costMatrix)"
      ]
    },
    {
      "cell_type": "markdown",
      "metadata": {},
      "source": [
        "Here we will build the constraint matrix. Let $d=[I-\\mathbf A, -\\mathbf B]$ and $f=I$ so that the constraint can be written as $d \\begin{bmatrix} \\theta_x \\\\ \\theta_u \\end{bmatrix} = f$."
      ]
    },
    {
      "cell_type": "code",
      "execution_count": 6,
      "metadata": {},
      "outputs": [],
      "source": [
        "f = np.eye(Nx*T)\n",
        "d = np.concatenate([np.eye(Nx*T)-calA, -calB], axis=1)"
      ]
    },
    {
      "cell_type": "markdown",
      "metadata": {},
      "source": [
        "## ADMM\n",
        "Now we set up the ADMM algorithm. We will be solving the row and columns separately."
      ]
    },
    {
      "cell_type": "code",
      "execution_count": null,
      "metadata": {},
      "outputs": [
        {
          "name": "stdout",
          "output_type": "stream",
          "text": [
            "Primal, Dual 98.47101477 98.47101477\n",
            "Primal, Dual 0.11540007 0.25487645\n",
            "Primal, Dual 0.00243041 0.00534347\n",
            "Primal, Dual 9.656e-05 0.00011525\n",
            "Primal, Dual 5.61e-06 1.54e-06\n",
            "Primal, Dual 1.9e-07 9e-08\n",
            "Primal, Dual 0.0 1e-08\n",
            "160.960569522693\n",
            "costs phi, psi 160.96119744598664 160.9611304736069\n"
          ]
        }
      ],
      "source": [
        "\n",
        "\n",
        "def minimize_col_subproblem(phi,lamb,rho):\n",
        "    '''Use CVXpy to solve the ADMM column subproblem.'''\n",
        "    x   = cp.Variable(shape=phi.shape)\n",
        "    # todo: fill in the constraints and the objective\n",
        "    const = []\n",
        "    obj   = []\n",
        "    prob  = cp.Problem(cp.Minimize(obj),constraints=const)\n",
        "    prob.solve()\n",
        "    return prob.variables()[0].value\n",
        " \n",
        " \n",
        "def minimize_row_subproblem(psi,lamb,rho):\n",
        "    '''Use CVXpy to solve the ADMM row subproblem. Hint: rho is not needed here, and it may be helpful to enforce causality.'''\n",
        "    x   = cp.Variable(shape=psi.shape)\n",
        "    # todo: fill in the constraints and the objective\n",
        "    const = []\n",
        "    obj   = []\n",
        "    prob  = cp.Problem(cp.Minimize(obj),const)\n",
        "    prob.solve()\n",
        "    \n",
        "    return prob.variables()[0].value\n",
        "\n",
        "def update_lamb(phi,psi,lamb):\n",
        "    '''Update Lambda.'''\n",
        "    # todo\n",
        "    pass\n",
        "\n",
        "def compute_primal(phi,psi):\n",
        "    return np.linalg.norm(phi-psi,ord='fro')**2\n",
        "\n",
        "def compute_dual(psi,psi_old):\n",
        "    return np.linalg.norm(psi-psi_old,ord='fro')**2\n",
        "\n",
        "def full_problem():\n",
        "    x   = cp.Variable(shape=((Nx+Nu)*T,Nx*T))\n",
        "    const = [ cp.matmul(d,x) - f== 0] \n",
        "    for i in range(T-1): # enforce causality\n",
        "        const.append(x[Nx*i:Nx*(i+1),(i+1)*Nx:] == 0)\n",
        "        const.append(x[Nx*T+i*Nu:Nx*T+(i+1)*Nu,(i+1)*Nx:] == 0)\n",
        "    obj   = cp.norm(cp.matmul(costMatrix,x),'fro')**2\n",
        "    prob  = cp.Problem(cp.Minimize(obj),const)\n",
        "    cost = prob.solve()\n",
        "    return cost,prob.variables()[0].value\n",
        "\n",
        "\n",
        "\n",
        "\n",
        "\n",
        "# initialize variables\n",
        "lamb = np.zeros(((Nx+Nu)*T,Nx*T))\n",
        "psi  = np.zeros(((Nx+Nu)*T,Nx*T)) # shape of phi_x and phi_u stacked\n",
        "rho  = 10 # penalty parameter\n",
        "\n",
        "for i in range(100):\n",
        "    phi         = minimize_row_subproblem(psi,lamb,rho)\n",
        "    psi_old     = np.copy(psi)\n",
        "    psi         = minimize_col_subproblem(phi,lamb,rho)\n",
        "    lamb        = update_lamb(phi,psi,lamb)\n",
        "    \n",
        "    if i % 10 == 0:\n",
        "        cost_primal = compute_primal(phi,psi)\n",
        "        cost_dual   = compute_dual(psi,psi_old)\n",
        "        print(\"Primal, Dual\",cost_primal.round(8),cost_dual.round(8))\n",
        "        if cost_primal < 1e-8 and cost_dual < 1e-8:\n",
        "            break   \n",
        "\n",
        "# here we compare the ADMM result to the full problem; they should be the same\n",
        "cost,true_X = full_problem()\n",
        "print(cost)\n",
        "print(\"costs phi, psi\",np.linalg.norm(costMatrix @ phi,'fro')**2,\n",
        "                                   np.linalg.norm( costMatrix @ psi,'fro')**2)"
      ]
    },
    {
      "cell_type": "markdown",
      "metadata": {},
      "source": [
        "### Check that solution is correct\n",
        "\n",
        "If error is greater than 1e-5, please fix your ADMM code."
      ]
    },
    {
      "cell_type": "code",
      "execution_count": 8,
      "metadata": {},
      "outputs": [
        {
          "name": "stdout",
          "output_type": "stream",
          "text": [
            "error 4.9003622920018096e-08\n",
            "t= 0     error 4.501861245005164e-33\n",
            "t= 1     error 9.774470625957485e-33\n",
            "t= 2     error 6.74298022907524e-22\n",
            "t= 3     error 1.1980494821898242e-21\n",
            "t= 4     error 1.1979512993373426e-21\n",
            "t= 5     error 1.1977538686060432e-21\n",
            "t= 6     error 1.1974443491460697e-21\n",
            "t= 7     error 1.1970512584154737e-21\n",
            "t= 8     error 1.6804369142024925e-21\n",
            "t= 9     error 5.787535150430059e-27\n",
            "t= 10     error 1.4341405862317232e-32\n"
          ]
        }
      ],
      "source": [
        "# print error between full problem and ADMM solution\n",
        "print(\"error\",np.linalg.norm(true_X-psi,'fro')**2)\n",
        "\n",
        "# check that closed-loop maps satisfy the system level parameterization\n",
        "id = np.eye(Nx*T)\n",
        "for tt in range(T-1):\n",
        "    print(\"t=\",tt,\"    error\",np.linalg.norm(A @ true_X[Nx*tt:Nx*(tt+1),:] + B @ true_X[Nx*T+Nu*tt:Nx*T+Nu*(tt+1),:] - true_X[Nx*(tt+1):Nx*(tt+2),:]+id[Nx*(tt+1):Nx*(tt+2),:],'fro')**2) # SLP\n",
        "\n"
      ]
    },
    {
      "cell_type": "markdown",
      "metadata": {},
      "source": [
        "## Construct feedback controller based on output\n",
        "\n",
        "We will simulate a response to a nonzero initial condition and disturbances, and plot the results."
      ]
    },
    {
      "cell_type": "code",
      "execution_count": null,
      "metadata": {},
      "outputs": [
        {
          "data": {
            "image/png": "[encoded data removed]",
            "text/plain": [
              "<Figure size 432x288 with 1 Axes>"
            ]
          },
          "metadata": {
            "needs_background": "light"
          },
          "output_type": "display_data"
        }
      ],
      "source": [
        "# initial state\n",
        "x          = np.zeros(Nx)\n",
        "x[2]       = 1.\n",
        "x[4]       = -1\n",
        "x0         = np.copy(x)\n",
        "\n",
        "# controller setup\n",
        "phi_x      = phi[:Nx*T,:]\n",
        "phi_u      = phi[Nx*T:,:]\n",
        "w_hat      = np.zeros((Nx,T+1))\n",
        "w_hat[:,0] = x # first disturbance is the initial condition\n",
        "\n",
        "# track history for plotting\n",
        "x_history = np.zeros((Nx,T+1))\n",
        "x_history[:,0] = x\n",
        "u_history = np.zeros((Nu,T))\n",
        "\n",
        "# run simulation\n",
        "for i in range(T):\n",
        "    u = 0\n",
        "    x_hat = 0\n",
        "    for j in range(i+1):\n",
        "        # todo: implement the controller using w_hat\n",
        "        pass\n",
        "\n",
        "    w_hat[:,i+1] = x - x_hat\n",
        "    x = A @ x + B @ u #+ np.random.rand(Nx)*0.1\n",
        "    x_history[:,i+1] = x\n",
        "    u_history[:,i] = u\n",
        "\n",
        "plt.figure()\n",
        "plt.plot(np.linalg.norm(x_history,2,axis=0),label=r'$\\|x\\|$')\n",
        "plt.plot(np.linalg.norm(u_history,2,axis=0),label=r'$\\|u\\|$')\n",
        "plt.plot(np.linalg.norm(w_hat,2,axis=0),label=r'$\\|\\hat{w}\\|$')\n",
        "plt.legend()\n",
        "plt.xlabel('time')\n",
        "plt.ylabel(\"magnitude\")\n",
        "plt.show()\n",
        "\n",
        "\n"
      ]
    },
    {
      "cell_type": "markdown",
      "metadata": {},
      "source": [
        "# Parallel Solving\n",
        "\n",
        "Now we will solve the column and row subproblems in parallel, which will allow us to solve much larger problems. Adapt your subproblems from the earlier section to solve each column or row separately.\n",
        "\n",
        "The code has been set up to process rows and columns either in a series (use_multiprocessing=False) and in parallel (use_multiprocessing=True). Since this problem is small, the overhead of parallelization is not necessarily worth it! It would be for a larger problem, with many processors available, for example, on a real-world system with multiple machines. You are welcome to test the multiprocessing function if you like; this is optional."
      ]
    },
    {
      "cell_type": "code",
      "execution_count": null,
      "metadata": {},
      "outputs": [],
      "source": [
        "\n",
        "def process_row(args):\n",
        "    '''Minimize the j^th row, given psi, lambda_, Nx, Nu, T. Return the minimizer as a 1d array.\n",
        "     The solution can be solved in closed-form; do not use CVXpy here.'''\n",
        "    j,psi,lambda_,Nx,Nu,T = args\n",
        "    # todo\n",
        "    pass\n",
        "\n",
        "def solve_row_subproblems(psi,lambda_,Nx,Nu,T,process_func,use_multiprocessing=False):\n",
        "    dim2         = (Nu+Nx)*T\n",
        "    args         = [[i,psi,lambda_,Nx,Nu,T] for i in range(dim2)]\n",
        "    if use_multiprocessing:\n",
        "        with multiprocessing.Pool() as pool:\n",
        "            results = pool.map_async(process_func,args).get()\n",
        "    else:\n",
        "        results = [process_func(arg) for arg in args]\n",
        "\n",
        "    return np.array(results)\n",
        "\n",
        "\n",
        "def process_col(arg):\n",
        "        '''Minimize the j^th column, given phi, lambda_, Nx, Nu, T. Return the minimizer as a 1d array.\n",
        "         The solution can be solved in closed-form; do not use CVXpy here. '''\n",
        "        jj,phi,lambda_,Nx,Nu,T = arg\n",
        "\n",
        "        # todo\n",
        "        pass\n",
        "\n",
        "\n",
        "def solve_col_subproblems(phi,lambda_,Nx,Nu,T, process_func, use_multiprocessing=False):\n",
        "    dim1         = Nx*T\n",
        "    args         = [[i,phi,lambda_,Nx,Nu,T] for i in range(dim1)]\n",
        "    if use_multiprocessing:\n",
        "        with multiprocessing.Pool() as pool:\n",
        "            results = pool.map_async(process_func,args).get()\n",
        "    else:\n",
        "        results = [process_func(arg) for arg in args]\n",
        "    return np.array(results)"
      ]
    },
    {
      "cell_type": "markdown",
      "metadata": {},
      "source": [
        "Let's test the row and column subproblems! We will compare the solution to the earlier row and column subproblems to check for correctness."
      ]
    },
    {
      "cell_type": "code",
      "execution_count": 11,
      "metadata": {},
      "outputs": [
        {
          "name": "stdout",
          "output_type": "stream",
          "text": [
            "Primal, Dual 98.47101 98.47101\n",
            "Primal, Dual 0.11541 0.25489\n",
            "Primal, Dual 0.00243 0.00534\n",
            "Primal, Dual 0.0001 0.00012\n",
            "Primal, Dual 1e-05 0.0\n",
            "Primal, Dual 0.0 0.0\n",
            "Primal, Dual 0.0 0.0\n",
            "160.960569522693\n",
            "costs phi, psi 160.96121970695046 160.9611891319452\n"
          ]
        }
      ],
      "source": [
        "\n",
        "lamb = np.zeros(((Nx+Nu)*T,Nx*T))\n",
        "psi  = np.zeros(((Nx+Nu)*T,Nx*T)) # shape of phi_x and phi_u stacked\n",
        "rho  = 10\n",
        "\n",
        "for i in range(100):\n",
        "        phi         = solve_row_subproblems(psi,lamb,Nx,Nu,T,process_row) # process rows individually\n",
        "        phi_test    = minimize_row_subproblem(psi,lamb,rho) # process entire problem\n",
        "        \n",
        "        if np.max(np.abs(phi-phi_test)) > 1e-3: # check if solutions are close enough\n",
        "            print(\"error:\",np.linalg.norm(phi-phi_test,'fro'))\n",
        "            plt.figure()\n",
        "            plt.imshow(phi-phi_test)\n",
        "            plt.colorbar()\n",
        "            plt.show()\n",
        "            raise ValueError(\"row subproblem not solved correctly\")\n",
        "        \n",
        "        psi_old     = np.copy(psi)\n",
        "        psi         = solve_col_subproblems(phi,lamb,Nx,Nu,T,process_col).T # process columns individually\n",
        "        psi_test    = minimize_col_subproblem(phi,lamb,rho) # process entire problem\n",
        "        \n",
        "        if np.max(np.abs(psi-psi_test)) > 1e-3: # check if solutions are close enough\n",
        "            print(\"error:\",np.linalg.norm(psi-psi_test,'fro'))\n",
        "            plt.figure()\n",
        "            plt.imshow(psi-psi_test)\n",
        "            plt.colorbar()\n",
        "            plt.show()\n",
        "            raise ValueError(\"col subproblem not solved correctly\")\n",
        "        \n",
        "        lamb        = update_lamb(phi,psi,lamb)\n",
        "        \n",
        "        if i % 10 == 0:\n",
        "            cost_primal = compute_primal(phi,psi)\n",
        "            cost_dual   = compute_dual(psi,psi_old)\n",
        "            print(\"Primal, Dual\",cost_primal.round(5),cost_dual.round(5))\n",
        "            if cost_primal < 1e-8 and cost_dual < 1e-5:\n",
        "                break   \n",
        "\n",
        "    \n",
        "\n",
        "print(cost)\n",
        "print(\"costs phi, psi\",np.linalg.norm(costMatrix @ phi,'fro')**2,\n",
        "                                   np.linalg.norm( costMatrix @ psi,'fro')**2)"
      ]
    },
    {
      "cell_type": "code",
      "execution_count": 12,
      "metadata": {},
      "outputs": [
        {
          "name": "stdout",
          "output_type": "stream",
          "text": [
            "t= 0     error 6.226023287713992e-14\n",
            "t= 1     error 2.8422609391051676e-12\n",
            "t= 2     error 4.098923021819149e-10\n",
            "t= 3     error 3.6329541971580457e-10\n",
            "t= 4     error 1.6005673200248186e-09\n",
            "t= 5     error 1.9571765981634438e-09\n",
            "t= 6     error 1.3690508997345398e-09\n",
            "t= 7     error 2.1395126192062808e-10\n",
            "t= 8     error 1.584286230396189e-10\n",
            "t= 9     error 4.376390083542652e-12\n",
            "t= 10     error 4.619842006737972e-18\n"
          ]
        }
      ],
      "source": [
        "# Again, check that the SLP is satisfied. Errors should be around 1e-9 or smaller.\n",
        "id = np.eye(Nx*T)\n",
        "for tt in range(T-1):\n",
        "    print(\"t=\",tt,\"    error\",np.linalg.norm(A @ phi[Nx*tt:Nx*(tt+1),:] + B @ phi[Nx*T+Nu*tt:Nx*T+Nu*(tt+1),:] - phi[Nx*(tt+1):Nx*(tt+2),:]+id[Nx*(tt+1):Nx*(tt+2),:],'fro')**2) # SLP"
      ]
    },
    {
      "cell_type": "markdown",
      "metadata": {},
      "source": [
        "# Constraints\n",
        "\n",
        "A key feature of SLS is the ability to add constraints to the closed-loop maps without losing any convexity of the optimization problem. In this section, we will add locality constraints to the optimization problems.\n",
        "\n",
        "Let $\\mathbf G$ be the adjacency matrix of $A$, that is, $\\mathbf G[i,j]=1$ if $A[i,j]\\ne 0$, will all other entries of $\\mathbf G$ equal to zero. Locality constrained to $l$ neighbors take the form\n",
        "\n",
        "\\begin{align*}\n",
        "    \\text{supp } \\theta_x(t,\\tau) = \\text{supp } \\mathbf G^l\\,, \\qquad \\text{supp } \\theta_u(t,\\tau) = \\text{supp } (|B^\\top| \\text{supp }\\theta_x(t,\\tau)),\n",
        "\\end{align*}\n",
        "where $\\text{supp}$ refers to the support of a matrix, the set of indices with nonzero elements. Edit your minimize_col_subproblem() and minimize_row_subproblem() functions to accommodate locality constraints with locality given by \"radius.\""
      ]
    },
    {
      "cell_type": "code",
      "execution_count": null,
      "metadata": {},
      "outputs": [],
      "source": [
        "G = np.zeros((Nx,Nx))\n",
        "G[A!=0] = 1\n",
        "\n",
        "def minimize_col_subproblem_constrained(phi,lamb,rho,radius): \n",
        "    '''Add support constraints to the column subproblem. Use CVXpy to solve the ADMM column subproblem.'''\n",
        "    # todo\n",
        "    pass\n",
        " \n",
        " \n",
        "def minimize_row_subproblem_constrained(psi,lamb,rho,radius):\n",
        "    '''Add support constraints to the row subproblem. Use CVXpy to solve the ADMM row subproblem.'''\n",
        "    # todo\n",
        "    pass"
      ]
    },
    {
      "cell_type": "markdown",
      "metadata": {},
      "source": [
        "Let's run the optimization problem with the constraint. Test values of radius from 1 to 6. What do you notice about the cost and feasibility? Why does this occur?\n",
        "$\n",
        "\\color{red}{\\text{answer here}}\n",
        "$"
      ]
    },
    {
      "cell_type": "code",
      "execution_count": 14,
      "metadata": {},
      "outputs": [
        {
          "name": "stdout",
          "output_type": "stream",
          "text": [
            "Primal, Dual 109.78096 109.78096\n",
            "Primal, Dual 0.0786 0.19125\n",
            "Primal, Dual 0.00293 0.00097\n",
            "Primal, Dual 4e-05 4e-05\n",
            "Primal, Dual 0.0 0.0\n",
            "Primal, Dual 0.0 0.0\n",
            "Primal, Dual 0.0 0.0\n",
            "160.960569522693\n",
            "costs phi, psi 163.12898595981756 163.12891711820592\n"
          ]
        }
      ],
      "source": [
        "lamb   = np.zeros(((Nx+Nu)*T,Nx*T))\n",
        "psi    = np.zeros(((Nx+Nu)*T,Nx*T)) # shape of phi_x and phi_u stacked\n",
        "rho    = 10\n",
        "radius = 2\n",
        "\n",
        "for i in range(100):\n",
        "    phi         = minimize_row_subproblem_constrained(psi,lamb,rho,radius)\n",
        "    psi_old     = np.copy(psi)\n",
        "    psi         = minimize_col_subproblem_constrained(phi,lamb,rho,radius)\n",
        "    lamb        = update_lamb(phi,psi,lamb)\n",
        "    \n",
        "    if i % 10 == 0:\n",
        "        cost_primal = compute_primal(phi,psi)\n",
        "        cost_dual   = compute_dual(psi,psi_old)\n",
        "        print(\"Primal, Dual\",cost_primal.round(5),cost_dual.round(5))\n",
        "        if cost_primal < 1e-8 and cost_dual < 1e-8:\n",
        "            break   \n",
        "\n",
        "    \n",
        "cost,true_X = full_problem()\n",
        "print(cost)\n",
        "print(\"costs phi, psi\",np.linalg.norm(costMatrix @ phi,'fro')**2,\n",
        "                                   np.linalg.norm( costMatrix @ psi,'fro')**2)"
      ]
    },
    {
      "cell_type": "markdown",
      "metadata": {},
      "source": [
        "What do you expect to happen to the cost when an acuation delay is introduced? \n",
        "$\n",
        "\\color{red}{\\text{answer here}}\n",
        "$"
      ]
    }
  ],
  "metadata": {
    "colab": {
      "provenance": []
    },
    "kernelspec": {
      "display_name": "usr",
      "language": "python",
      "name": "python3"
    },
    "language_info": {
      "codemirror_mode": {
        "name": "ipython",
        "version": 3
      },
      "file_extension": ".py",
      "mimetype": "text/x-python",
      "name": "python",
      "nbconvert_exporter": "python",
      "pygments_lexer": "ipython3",
      "version": "3.10.12"
    }
  },
  "nbformat": 4,
  "nbformat_minor": 0
}
